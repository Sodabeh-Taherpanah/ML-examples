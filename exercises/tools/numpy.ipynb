{
  "cells": [
    {
      "cell_type": "markdown",
      "id": "separate-plymouth",
      "metadata": {
        "id": "separate-plymouth"
      },
      "source": [
        "# NumPy"
      ]
    },
    {
      "cell_type": "code",
      "execution_count": null,
      "id": "danish-interference",
      "metadata": {
        "id": "danish-interference"
      },
      "outputs": [],
      "source": [
        "import numpy as np"
      ]
    },
    {
      "cell_type": "markdown",
      "id": "extraordinary-recognition",
      "metadata": {
        "id": "extraordinary-recognition"
      },
      "source": [
        "## Create an Array\n",
        "Write a Python program that creates an integer array with 4 elements of type unsigned int16 and prints the shape, the number of dimensions, and the length of each element in bytes."
      ]
    },
    {
      "cell_type": "code",
      "execution_count": 1,
      "id": "auburn-characterization",
      "metadata": {
        "id": "auburn-characterization",
        "outputId": "780e3fec-8d87-460b-e4ff-dd278d2e15e4",
        "colab": {
          "base_uri": "https://localhost:8080/"
        }
      },
      "outputs": [
        {
          "output_type": "stream",
          "name": "stdout",
          "text": [
            "Number of shape - dimensions: (2, 4) 2\n",
            "Length of each element in bytes: 2\n"
          ]
        }
      ],
      "source": [
        "import numpy as np\n",
        "\n",
        "dArr=np.array([[5,7,9,23],[3,5,9,0]],dtype=np.uint16)\n",
        "dArr.shape\n",
        "\n",
        "print(\"Number of shape - dimensions:\",dArr.shape, dArr.ndim)\n",
        "\n",
        "\n",
        "print(\"Length of each element in bytes:\", dArr.itemsize)"
      ]
    },
    {
      "cell_type": "markdown",
      "id": "grand-house",
      "metadata": {
        "id": "grand-house"
      },
      "source": [
        "## Create a 2D Array\n",
        "Write a Python program that creates a $ 5 \\times 2 $ integer array from a range between 100 to 200 such that the difference between each element is 10."
      ]
    },
    {
      "cell_type": "code",
      "execution_count": 2,
      "id": "great-organization",
      "metadata": {
        "id": "great-organization",
        "outputId": "da9e6543-18da-4ce4-c041-89d875a8d8c0",
        "colab": {
          "base_uri": "https://localhost:8080/"
        }
      },
      "outputs": [
        {
          "output_type": "stream",
          "name": "stdout",
          "text": [
            "1\n",
            "2\n",
            "[100, 110]\n",
            "1\n",
            "2\n",
            "[120, 130]\n",
            "1\n",
            "2\n",
            "[140, 150]\n",
            "1\n",
            "2\n",
            "[160, 170]\n",
            "1\n",
            "2\n",
            "[180, 190]\n",
            "[[100, 110], [120, 130], [140, 150], [160, 170], [180, 190]]\n"
          ]
        }
      ],
      "source": [
        "arr=[]\n",
        "arrSub=[]\n",
        "for i in range(100,200,10):\n",
        "  arrSub.append(i)\n",
        "  print(len(arrSub))\n",
        "  if len(arrSub)==2:\n",
        "    print(arrSub)\n",
        "    arr.append(arrSub)\n",
        "    arrSub=[]\n",
        "\n",
        "print(arr)\n"
      ]
    },
    {
      "cell_type": "code",
      "source": [
        "# second way\n",
        "arrx = np.arange(100, 200, 5)\n",
        "\n",
        "# Reshape the array into a 5x2 array\n",
        "reshaped_arr = arrx.reshape(4, 5)\n",
        "\n",
        "# Print the reshaped array\n",
        "print(\"5x2 Array:\")\n",
        "print(reshaped_arr)"
      ],
      "metadata": {
        "id": "g568qpCRHgx5",
        "outputId": "7a8e4845-fde3-4509-e52e-dd4b489e11e6",
        "colab": {
          "base_uri": "https://localhost:8080/"
        }
      },
      "id": "g568qpCRHgx5",
      "execution_count": 3,
      "outputs": [
        {
          "output_type": "stream",
          "name": "stdout",
          "text": [
            "5x2 Array:\n",
            "[[100 105 110 115 120]\n",
            " [125 130 135 140 145]\n",
            " [150 155 160 165 170]\n",
            " [175 180 185 190 195]]\n"
          ]
        }
      ]
    },
    {
      "cell_type": "markdown",
      "id": "modern-thong",
      "metadata": {
        "id": "modern-thong"
      },
      "source": [
        "## Select Rows and Columns\n",
        "Write a Python program to return the 2D array of odd rows and even columns from the given numpy array."
      ]
    },
    {
      "cell_type": "code",
      "execution_count": null,
      "id": "contained-burlington",
      "metadata": {
        "id": "contained-burlington"
      },
      "outputs": [],
      "source": [
        "a = np.array([[3 ,6, 9, 12], [15 ,18, 21, 24], [27 ,30, 33, 36], [39 ,42, 45, 48], [51 ,54, 57, 60]])\n",
        "a"
      ]
    },
    {
      "cell_type": "code",
      "execution_count": 4,
      "id": "heard-consultation",
      "metadata": {
        "id": "heard-consultation",
        "outputId": "e60ad97a-719b-4a23-db75-256c447746c5",
        "colab": {
          "base_uri": "https://localhost:8080/"
        }
      },
      "outputs": [
        {
          "output_type": "stream",
          "name": "stdout",
          "text": [
            "[6, 12, 18, 24, 30, 36, 42, 48, 54, 60]\n",
            "[3, 9, 15, 21, 27, 33, 39, 45, 51, 57]\n",
            "[[ 6 12 18 24 30 36 42 48 54 60]\n",
            " [ 3  9 15 21 27 33 39 45 51 57]]\n",
            "[[ 6,12,18,24,30,36,42,48,54,60],\n",
            " [ 3, 9,15,21,27,33,39,45,51,57]]\n"
          ]
        }
      ],
      "source": [
        "a = np.array([[3 ,6, 9, 12], [15 ,18, 21, 24], [27 ,30, 33, 36], [39 ,42, 45, 48], [51 ,54, 57, 60]])\n",
        "\n",
        "# Split the array into 10 chunks\n",
        "chunks = np.array_split(a, 10)\n",
        "\n",
        "# Process each chunk\n",
        "even_numbers = []\n",
        "odd_numbers = []\n",
        "\n",
        "for chunk in chunks:\n",
        "    even_numbers.extend(chunk[chunk % 2 == 0])  # Append even numbers\n",
        "    odd_numbers.extend(chunk[chunk % 2 != 0])\n",
        "\n",
        "print(even_numbers)\n",
        "print(odd_numbers)\n",
        "arr\n",
        "merge=np.array([even_numbers,odd_numbers])\n",
        "print(merge)\n",
        "\n",
        "print(np.array2string(merge, separator=','))"
      ]
    },
    {
      "cell_type": "markdown",
      "id": "close-collector",
      "metadata": {
        "id": "close-collector"
      },
      "source": [
        "## Compute Numerical Operations\n",
        "Write a Python program that computes the sum, the element-wise multiplication, and the matrix multiplication of the given numpy arrays."
      ]
    },
    {
      "cell_type": "code",
      "execution_count": null,
      "id": "premium-compiler",
      "metadata": {
        "id": "premium-compiler"
      },
      "outputs": [],
      "source": [
        "a = np.array([[5, 6], [21, 18]])\n",
        "b = np.array([[15, 33], [4, 7]])\n",
        "a, b"
      ]
    },
    {
      "cell_type": "code",
      "execution_count": null,
      "id": "activated-occurrence",
      "metadata": {
        "id": "activated-occurrence"
      },
      "outputs": [],
      "source": []
    },
    {
      "cell_type": "markdown",
      "id": "fabulous-identification",
      "metadata": {
        "id": "fabulous-identification"
      },
      "source": [
        "## Split and Concatenate an Array\n",
        "Write a Python program to split the given $ 8 \\times 3 $ array into 4 equal-sized $ 2 \\times 3 $ sub-arrays. Then, concatenate the splitted arrays vertically to rebuilt the original array."
      ]
    },
    {
      "cell_type": "code",
      "execution_count": 52,
      "id": "encouraging-ultimate",
      "metadata": {
        "id": "encouraging-ultimate",
        "outputId": "caa856cf-3089-460a-cb49-3eb410c61128",
        "colab": {
          "base_uri": "https://localhost:8080/"
        }
      },
      "outputs": [
        {
          "output_type": "stream",
          "name": "stdout",
          "text": [
            "Total size: 24--.3--. 8   arr--: [array([[10, 11, 12],\n",
            "       [13, 14, 15]]), array([[16, 17, 18],\n",
            "       [19, 20, 21]]), array([[22, 23, 24],\n",
            "       [25, 26, 27]]), array([[28, 29, 30],\n",
            "       [31, 32, 33]])] \n",
            "[[10 11 12]\n",
            " [13 14 15]]\n",
            "[[16 17 18]\n",
            " [19 20 21]]\n",
            "[[22 23 24]\n",
            " [25 26 27]]\n",
            "[[28 29 30]\n",
            " [31 32 33]]\n"
          ]
        },
        {
          "output_type": "execute_result",
          "data": {
            "text/plain": [
              "array([[10, 11, 12],\n",
              "       [13, 14, 15],\n",
              "       [16, 17, 18],\n",
              "       [19, 20, 21],\n",
              "       [22, 23, 24],\n",
              "       [25, 26, 27],\n",
              "       [28, 29, 30],\n",
              "       [31, 32, 33]])"
            ]
          },
          "metadata": {},
          "execution_count": 52
        }
      ],
      "source": [
        "a = np.arange(10, 34, 1).reshape(8, 3)\n",
        "arrx=[]\n",
        "rows = len(a)\n",
        "columns = len(a[0])\n",
        "\n",
        "arr_splited=np.split(a,4)\n",
        "\n",
        "#all items\n",
        "size = a.size\n",
        "\n",
        "rows = len(a)\n",
        "colums=len(a[0])\n",
        "print(f\"Total size: {size}--.{colums}--. {rows}   arr--: {arr_splited} \")\n",
        "\n",
        "for sub_arr in arr_splited:\n",
        "    print(sub_arr)\n",
        "\n",
        "np.concatenate(arr_splited, axis=0)"
      ]
    },
    {
      "cell_type": "code",
      "execution_count": null,
      "id": "tested-village",
      "metadata": {
        "id": "tested-village"
      },
      "outputs": [],
      "source": []
    },
    {
      "cell_type": "markdown",
      "id": "super-vietnam",
      "metadata": {
        "id": "super-vietnam"
      },
      "source": [
        "## Replace a Column\n",
        "Write a Python program that replaces the second column from the given array with the new given column."
      ]
    },
    {
      "cell_type": "code",
      "execution_count": 48,
      "id": "negative-techno",
      "metadata": {
        "id": "negative-techno",
        "outputId": "5c983450-459d-4c6a-e3c9-90d9273ef05d",
        "colab": {
          "base_uri": "https://localhost:8080/"
        }
      },
      "outputs": [
        {
          "output_type": "execute_result",
          "data": {
            "text/plain": [
              "array([[34, 43, 73],\n",
              "       [10, 10, 10],\n",
              "       [53, 94, 66]])"
            ]
          },
          "metadata": {},
          "execution_count": 48
        }
      ],
      "source": [
        "a = np.array([[34, 43, 73], [82, 22, 12], [53, 94, 66]])\n",
        "new_column = np.array([[10, 10, 10]])\n",
        "a, new_column\n",
        "a[1]=new_column\n",
        "a\n"
      ]
    },
    {
      "cell_type": "markdown",
      "source": [
        "Replace all occurrences > 6 with 99"
      ],
      "metadata": {
        "id": "x7WkS-6za8q6"
      },
      "id": "x7WkS-6za8q6"
    },
    {
      "cell_type": "code",
      "execution_count": 55,
      "id": "undefined-notion",
      "metadata": {
        "id": "undefined-notion",
        "outputId": "b1d5136f-033f-45c6-fb22-d5b20a147942",
        "colab": {
          "base_uri": "https://localhost:8080/"
        }
      },
      "outputs": [
        {
          "output_type": "execute_result",
          "data": {
            "text/plain": [
              "array([[10, 99, 99],\n",
              "       [99, 99, 99],\n",
              "       [99, 99, 99],\n",
              "       [99, 99, 99],\n",
              "       [99, 99, 99],\n",
              "       [99, 99, 99],\n",
              "       [99, 99, 99],\n",
              "       [99, 99, 99]])"
            ]
          },
          "metadata": {},
          "execution_count": 55
        }
      ],
      "source": [
        "for i in range(len(a)):          # Loop through rows\n",
        "    for j in range(len(a[i])):   # Loop through columns\n",
        "        if a[i][j] >10:         # Check if the value is 6\n",
        "            a[i][j] = 99\n",
        "a"
      ]
    },
    {
      "cell_type": "markdown",
      "id": "identical-turner",
      "metadata": {
        "id": "identical-turner"
      },
      "source": [
        "## Sort Rows and Columns\n",
        "Write a Python program to sort the given 2D array in 2 scenarios: (1) Sort the rows; (2) Sort the columns.  "
      ]
    },
    {
      "cell_type": "code",
      "execution_count": 67,
      "id": "employed-lawsuit",
      "metadata": {
        "id": "employed-lawsuit",
        "outputId": "81fdc67a-084a-46c4-9b8e-26013ad79f12",
        "colab": {
          "base_uri": "https://localhost:8080/"
        }
      },
      "outputs": [
        {
          "output_type": "execute_result",
          "data": {
            "text/plain": [
              "array([[34, 43, 73],\n",
              "       [82, 22, 12],\n",
              "       [53, 94, 66]])"
            ]
          },
          "metadata": {},
          "execution_count": 67
        }
      ],
      "source": [
        "b = np.array([[34, 43, 73], [82, 22, 12], [53, 94, 66]])\n",
        "b"
      ]
    },
    {
      "cell_type": "code",
      "execution_count": 64,
      "id": "computational-spotlight",
      "metadata": {
        "id": "computational-spotlight",
        "outputId": "cbc95ec4-d5a2-43ff-829a-c0f8a64f3f23",
        "colab": {
          "base_uri": "https://localhost:8080/"
        }
      },
      "outputs": [
        {
          "output_type": "execute_result",
          "data": {
            "text/plain": [
              "array([[34, 22, 12],\n",
              "       [53, 43, 66],\n",
              "       [82, 94, 73]])"
            ]
          },
          "metadata": {},
          "execution_count": 64
        }
      ],
      "source": [
        "c=b\n",
        "# sort independently. ,column.    12, 66,73\n",
        "np.sort(c, axis = 0)"
      ]
    },
    {
      "cell_type": "code",
      "source": [
        "# sort independently. ,rows.   , every items in every rows sorts\n",
        "np.sort(b, axis =1\n",
        "        )"
      ],
      "metadata": {
        "id": "Uxs8g8heccfd",
        "outputId": "8885da57-bfaf-4cef-8069-9e247aec77ab",
        "colab": {
          "base_uri": "https://localhost:8080/"
        }
      },
      "id": "Uxs8g8heccfd",
      "execution_count": 69,
      "outputs": [
        {
          "output_type": "execute_result",
          "data": {
            "text/plain": [
              "array([[34, 43, 73],\n",
              "       [12, 22, 82],\n",
              "       [53, 66, 94]])"
            ]
          },
          "metadata": {},
          "execution_count": 69
        }
      ]
    }
  ],
  "metadata": {
    "kernelspec": {
      "display_name": "Python 3",
      "language": "python",
      "name": "python3"
    },
    "language_info": {
      "codemirror_mode": {
        "name": "ipython",
        "version": 3
      },
      "file_extension": ".py",
      "mimetype": "text/x-python",
      "name": "python",
      "nbconvert_exporter": "python",
      "pygments_lexer": "ipython3",
      "version": "3.8.5"
    },
    "colab": {
      "provenance": [],
      "toc_visible": true
    }
  },
  "nbformat": 4,
  "nbformat_minor": 5
}